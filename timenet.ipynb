{
  "nbformat": 4,
  "nbformat_minor": 0,
  "metadata": {
    "colab": {
      "name": "the timenet",
      "provenance": [],
      "collapsed_sections": []
    },
    "kernelspec": {
      "name": "python3",
      "display_name": "Python 3"
    },
    "accelerator": "GPU"
  },
  "cells": [
    {
      "cell_type": "code",
      "metadata": {
        "id": "guP4yihNmCmu",
        "colab_type": "code",
        "colab": {}
      },
      "source": [
        "# !git clone https://github.com/midnightforever/urban/\n",
        "# !rm -rf Urban/"
      ],
      "execution_count": 0,
      "outputs": []
    },
    {
      "cell_type": "code",
      "metadata": {
        "id": "X_eZOw4-qQiV",
        "colab_type": "code",
        "outputId": "f7b9186b-2f4f-4bb2-a811-0acc47f58607",
        "colab": {
          "base_uri": "https://localhost:8080/",
          "height": 34
        }
      },
      "source": [
        "import os \n",
        "os.chdir('/content/urban')\n",
        "# os.chdir('/content')\n",
        "os.getcwd()"
      ],
      "execution_count": 2,
      "outputs": [
        {
          "output_type": "execute_result",
          "data": {
            "text/plain": [
              "'/content/urban'"
            ]
          },
          "metadata": {
            "tags": []
          },
          "execution_count": 2
        }
      ]
    },
    {
      "cell_type": "code",
      "metadata": {
        "id": "lLhdk-vsqdSf",
        "colab_type": "code",
        "outputId": "630bea4b-eb02-4c48-951e-d966e72da861",
        "colab": {
          "base_uri": "https://localhost:8080/",
          "height": 64
        }
      },
      "source": [
        "import os\n",
        "# os.environ[\"CUDA_VISIBLE_DEVICES\"]=\"4\"\n",
        "import time\n",
        "import numpy as np\n",
        "import tensorflow as tf\n",
        "from sklearn.model_selection import train_test_split\n",
        "import matplotlib.pyplot as plt\n",
        "import seaborn as sns\n",
        "import copy\n",
        "from tensorflow.python.framework import dtypes\n",
        "from tensorflow.python.ops import variable_scope\n",
        "plt.rcParams['figure.figsize'] = 16, 8\n",
        "%tensorflow_version 1.x"
      ],
      "execution_count": 3,
      "outputs": [
        {
          "output_type": "display_data",
          "data": {
            "text/html": [
              "<p style=\"color: red;\">\n",
              "The default version of TensorFlow in Colab will soon switch to TensorFlow 2.x.<br>\n",
              "We recommend you <a href=\"https://www.tensorflow.org/guide/migrate\" target=\"_blank\">upgrade</a> now \n",
              "or ensure your notebook will continue to use TensorFlow 1.x via the <code>%tensorflow_version 1.x</code> magic:\n",
              "<a href=\"https://colab.research.google.com/notebooks/tensorflow_version.ipynb\" target=\"_blank\">more info</a>.</p>\n"
            ],
            "text/plain": [
              "<IPython.core.display.HTML object>"
            ]
          },
          "metadata": {
            "tags": []
          }
        }
      ]
    },
    {
      "cell_type": "code",
      "metadata": {
        "id": "R5SokTV1rK-5",
        "colab_type": "code",
        "outputId": "e77c3c04-2789-4b13-9f43-26efa6668e1f",
        "colab": {
          "base_uri": "https://localhost:8080/",
          "height": 104
        }
      },
      "source": [
        "sess = tf.Session(config=tf.ConfigProto(log_device_placement=True))"
      ],
      "execution_count": 4,
      "outputs": [
        {
          "output_type": "stream",
          "text": [
            "Device mapping:\n",
            "/job:localhost/replica:0/task:0/device:XLA_CPU:0 -> device: XLA_CPU device\n",
            "/job:localhost/replica:0/task:0/device:XLA_GPU:0 -> device: XLA_GPU device\n",
            "/job:localhost/replica:0/task:0/device:GPU:0 -> device: 0, name: Tesla P100-PCIE-16GB, pci bus id: 0000:00:04.0, compute capability: 6.0\n",
            "\n"
          ],
          "name": "stdout"
        }
      ]
    },
    {
      "cell_type": "code",
      "metadata": {
        "id": "RqrLZpsXrYL_",
        "colab_type": "code",
        "colab": {}
      },
      "source": [
        "learning_rate = 0.001\n",
        "total_epoch = 1000\n",
        "batch_size = 64\n",
        "dropout = 0.5\n",
        "hidden_size = 20\n",
        "index = 0\n",
        "\n",
        "feed_train = {}\n",
        "feed_val = {}\n",
        "outputs = []\n",
        "targets = []\n",
        "DATAS = []\n",
        "data_size = 6\n",
        "datasets = {2: 'bareland', 3:'crop', 4:'forest', 5:'grass', 6:'rice', 7:'water'}"
      ],
      "execution_count": 0,
      "outputs": []
    },
    {
      "cell_type": "code",
      "metadata": {
        "id": "ONAkw_PFrsWV",
        "colab_type": "code",
        "colab": {}
      },
      "source": [
        "def dataplot(y_train, y_test, y_val):    \n",
        "    from collections import Counter\n",
        "    \n",
        "\n",
        "    f, axes = plt.subplots(1, 3, figsize=(18, 6))\n",
        "    ax1, ax2, ax3 = axes\n",
        "\n",
        "    sns.countplot(y_train, ax=ax1)\n",
        "    ax1.set_xlabel('train')\n",
        "    ax1.set_ylabel('number')\n",
        "    ax1.set_ylim([0, 2000])\n",
        "    \n",
        "    sns.countplot(y_val, ax=ax2)\n",
        "    ax2.set_xlabel('val')\n",
        "    ax2.set_ylabel('number')\n",
        "    ax2.set_ylim([0, 2000])\n",
        "\n",
        "    sns.countplot(y_test, ax=ax3)\n",
        "    ax3.set_xlabel('test')\n",
        "    ax3.set_ylabel('number')\n",
        "    ax3.set_ylim([0, 2000])\n",
        "    plt.show()\n",
        "\n",
        "def customized_rnn_seq2seq(encoder_inputs, decoder_inputs, cell, dtype=dtypes.float32, scope=None):\n",
        "    with variable_scope.variable_scope(scope or \"basic_rnn_seq2seq\"):\n",
        "        enc_cell = copy.deepcopy(cell)\n",
        "        encoder_outputs, enc_state = tf.contrib.rnn.static_rnn(enc_cell, encoder_inputs, dtype=dtype)\n",
        "    return customized_rnn_decoder(encoder_outputs, decoder_inputs, enc_state, cell)\n",
        "  \n",
        "def customized_rnn_decoder(encoder_outputs, decoder_inputs, initial_state, cell, loop_function=None, scope=None):\n",
        "    with variable_scope.variable_scope(scope or \"rnn_decoder\"):\n",
        "        state = initial_state\n",
        "        outputs = []\n",
        "        prev = None\n",
        "        for i, inp in enumerate(decoder_inputs):\n",
        "            if loop_function is not None and prev is not None:\n",
        "                with variable_scope.variable_scope(\"loop_function\", reuse=True):\n",
        "                    inp = loop_function(prev, i)\n",
        "            if i > 0:\n",
        "                variable_scope.get_variable_scope().reuse_variables()\n",
        "            output, state = cell(inp, state)\n",
        "            outputs.append(output)\n",
        "            if loop_function is not None:\n",
        "                prev = output\n",
        "    return encoder_outputs, outputs, state\n",
        "\n",
        "def data_maker():\n",
        "    from collections import Counter\n",
        "    data_train = np.loadtxt('train.txt', delimiter=',')\n",
        "    data_test = np.loadtxt('test.txt', delimiter=',')\n",
        "    dataholder = np.concatenate((data_train, data_test), axis=0)\n",
        "    \n",
        "    X_data = dataholder[:, 1:]\n",
        "    y_data = dataholder[:, :1] - 2 \n",
        "    y_data = y_data.reshape(y_data.shape[0]).tolist()\n",
        "    # print(y_data)\n",
        "    X_train, X_test, y_train, y_test = train_test_split(X_data, y_data, test_size=0.2, random_state=1, stratify=y_data)\n",
        "    X_train, X_val, y_train, y_val = train_test_split(X_train, y_train, test_size=0.1, random_state=1, stratify=y_train)\n",
        "    \n",
        "    c1 = Counter(y_train)\n",
        "    c2 = Counter(y_test)\n",
        "    c3 = Counter(y_val)\n",
        "    print('train',c1) \n",
        "    print('test',c2) \n",
        "    print('val',c3)\n",
        "    # print(len(y_train))\n",
        "    # print(len(y_val))\n",
        "    # print(len(y_test))\n",
        "    dataplot(y_train, y_test, y_val)\n",
        "\n",
        "    return X_train, y_train, X_val, y_val, X_test, y_test\n",
        "\n",
        "def seq2seq_maker(index=1):\n",
        "    X_train, y_train, X_val, y_val, X_test, y_test = data_maker()\n",
        "    \n",
        "    encoder_input = tf.placeholder(tf.float32, [None, X_train.shape[1]]) \n",
        "    decoder_input = tf.placeholder(tf.float32, [None, X_train.shape[1]])\n",
        "    target = tf.placeholder(tf.int64, [None])\n",
        "\n",
        "    targets.append(target)\n",
        "    \n",
        "    with tf.variable_scope(\"rnn_\" + str(index)):\n",
        "        cell = tf.contrib.rnn.GRUCell(num_units=hidden_size)\n",
        "        cell = tf.contrib.rnn.DropoutWrapper(cell, output_keep_prob=0.5)\n",
        "        #output, states = tf.contrib.legacy_seq2seq.basic_rnn_seq2seq([encoder_input], [decoder_input], cell)\n",
        "        en_outputs, de_outputs, state = customized_rnn_seq2seq([encoder_input], [decoder_input], cell)\n",
        "        #print(\"encoder_outputs\", encoder_outputs)\n",
        "        #print(\"decoder_outputs\", decoder_outputs)\n",
        "        de_outputs = tf.reshape(de_outputs, [-1, hidden_size]) #3D -> 2D\n",
        "        outputs.append(de_outputs)\n",
        "    \n",
        "    feed_train[encoder_input] = X_train\n",
        "    feed_train[decoder_input] = X_train\n",
        "    feed_train[target] = y_train\n",
        "    \n",
        "    feed_val[encoder_input] = X_val\n",
        "    feed_val[decoder_input] = X_val\n",
        "    feed_val[target] = y_val"
      ],
      "execution_count": 0,
      "outputs": []
    },
    {
      "cell_type": "code",
      "metadata": {
        "id": "mC4qtX5DBbmw",
        "colab_type": "code",
        "outputId": "356b286d-71ed-4add-9e17-17595149cddd",
        "colab": {
          "base_uri": "https://localhost:8080/",
          "height": 864
        }
      },
      "source": [
        "seq2seq_maker()"
      ],
      "execution_count": 7,
      "outputs": [
        {
          "output_type": "stream",
          "text": [
            "train Counter({2.0: 1910, 4.0: 1700, 1.0: 1273, 5.0: 891, 3.0: 502, 0.0: 135})\n",
            "test Counter({2.0: 531, 4.0: 472, 1.0: 354, 5.0: 248, 3.0: 139, 0.0: 37})\n",
            "val Counter({2.0: 212, 4.0: 189, 1.0: 142, 5.0: 99, 3.0: 56, 0.0: 15})\n"
          ],
          "name": "stdout"
        },
        {
          "output_type": "display_data",
          "data": {
            "image/png": "[encoded data removed]",
            "text/plain": [
              "<Figure size 1296x432 with 3 Axes>"
            ]
          },
          "metadata": {
            "tags": []
          }
        },
        {
          "output_type": "stream",
          "text": [
            "WARNING:tensorflow:\n",
            "The TensorFlow contrib module will not be included in TensorFlow 2.0.\n",
            "For more information, please see:\n",
            "  * https://github.com/tensorflow/community/blob/master/rfcs/20180907-contrib-sunset.md\n",
            "  * https://github.com/tensorflow/addons\n",
            "  * https://github.com/tensorflow/io (for I/O related ops)\n",
            "If you depend on functionality not listed there, please file an issue.\n",
            "\n",
            "WARNING:tensorflow:From <ipython-input-6-f06f99d4d35f>:83: GRUCell.__init__ (from tensorflow.python.ops.rnn_cell_impl) is deprecated and will be removed in a future version.\n",
            "Instructions for updating:\n",
            "This class is equivalent as tf.keras.layers.GRUCell, and will be replaced by that in Tensorflow 2.0.\n",
            "WARNING:tensorflow:From <ipython-input-6-f06f99d4d35f>:27: static_rnn (from tensorflow.python.ops.rnn) is deprecated and will be removed in a future version.\n",
            "Instructions for updating:\n",
            "Please use `keras.layers.RNN(cell, unroll=True)`, which is equivalent to this API\n",
            "WARNING:tensorflow:From /usr/local/lib/python3.6/dist-packages/tensorflow_core/python/ops/rnn_cell_impl.py:559: Layer.add_variable (from tensorflow.python.keras.engine.base_layer) is deprecated and will be removed in a future version.\n",
            "Instructions for updating:\n",
            "Please use `layer.add_weight` method instead.\n",
            "WARNING:tensorflow:From /usr/local/lib/python3.6/dist-packages/tensorflow_core/python/ops/rnn_cell_impl.py:565: calling Constant.__init__ (from tensorflow.python.ops.init_ops) with dtype is deprecated and will be removed in a future version.\n",
            "Instructions for updating:\n",
            "Call initializer instance with the dtype argument instead of passing it to the constructor\n",
            "WARNING:tensorflow:From /usr/local/lib/python3.6/dist-packages/tensorflow_core/python/ops/rnn_cell_impl.py:575: calling Zeros.__init__ (from tensorflow.python.ops.init_ops) with dtype is deprecated and will be removed in a future version.\n",
            "Instructions for updating:\n",
            "Call initializer instance with the dtype argument instead of passing it to the constructor\n"
          ],
          "name": "stdout"
        }
      ]
    },
    {
      "cell_type": "code",
      "metadata": {
        "id": "gw9CfveN-LmE",
        "colab_type": "code",
        "outputId": "e4a0ce28-b603-4d41-c4ae-ac9d8d11a8cd",
        "colab": {
          "base_uri": "https://localhost:8080/",
          "height": 52
        }
      },
      "source": [
        "W = tf.Variable(tf.random_normal([hidden_size, 100]), name=\"W\") \n",
        "b = tf.Variable(tf.random_normal([100]), name=\"b\")\n",
        "print(\"W\", W)\n",
        "print(\"b\", b)\n",
        "logits = [tf.matmul(output, W) + b for output in outputs]\n",
        "\n",
        "with tf.variable_scope(\"cost\"):\n",
        "    loss = []\n",
        "    for logit, target in zip(logits, targets):\n",
        "        loss.append(tf.nn.sparse_softmax_cross_entropy_with_logits(logits=logit, labels=target))\n",
        "    cost = tf.reduce_mean(loss)\n",
        "    optimizer = tf.train.AdamOptimizer(learning_rate).minimize(cost) \n",
        "    \n",
        "#with tf.variable_scope(\"eval\"):\n",
        "#    prediction = tf.argmax(tf.nn.softmax(logits), 1) \n",
        "#    correct_prediction = tf.equal(prediction, targets) #one-hot을 안쓰면 target에는 argmax할 필요없음\n",
        "#    accuracy_op = tf.reduce_mean(tf.cast(correct_prediction, tf.float32))"
      ],
      "execution_count": 8,
      "outputs": [
        {
          "output_type": "stream",
          "text": [
            "W <tf.Variable 'W:0' shape=(20, 100) dtype=float32_ref>\n",
            "b <tf.Variable 'b:0' shape=(100,) dtype=float32_ref>\n"
          ],
          "name": "stdout"
        }
      ]
    },
    {
      "cell_type": "code",
      "metadata": {
        "id": "sokBxB87_Mre",
        "colab_type": "code",
        "colab": {
          "base_uri": "https://localhost:8080/",
          "height": 1000
        },
        "outputId": "ff5a8b5d-b495-4b76-fec4-5a47e94e19f6"
      },
      "source": [
        "saver = tf.train.Saver()\n",
        "with tf.Session() as sess:\n",
        "    tf.global_variables_initializer().run()\n",
        "    \n",
        "    print(sess.run(\"W:0\"))\n",
        "    print(sess.run(\"b:0\"))\n",
        "    print(\"============================sess init\")\n",
        "    start_time = time.time()\n",
        "    train_losses = []\n",
        "    valid_losses = []\n",
        "\n",
        "    for epoch in range(total_epoch):\n",
        "        _, train_loss = sess.run([optimizer, cost], feed_dict = feed_train)\n",
        "        _, val_loss = sess.run([optimizer, cost], feed_dict = feed_val)\n",
        "        train_losses += [train_loss]\n",
        "        valid_losses += [val_loss]\n",
        "        if epoch % 100 == 0:  \n",
        "            print(\"Epoch {}/{} took {:.3f}s\".format(epoch + 1, total_epoch, time.time() - start_time))\n",
        "            print(\"  Train      loss : %.6f\" % (train_losses[epoch]))\n",
        "            print(\"  Validation loss : %.6f\" % (valid_losses[epoch]))\n",
        "    print(\"It took\", time.time() - start_time, \"seconds to train for\", total_epoch, \"epochs.\")        \n",
        "    print(\"============================ training end\")\n",
        "    \n",
        "    plt.plot(train_losses, '-b', label='Train loss')\n",
        "    plt.plot(valid_losses, '-r', label='Valid loss')\n",
        "    plt.legend(loc=0)\n",
        "    plt.title('Loss graph')\n",
        "    plt.xlabel('Epoch')\n",
        "    plt.ylabel('Loss')\n",
        "    plt.show()\n",
        "\n",
        "    #print('Accuracy:', sess.run(accuracy_op, feed_dict=feed_dict))\n",
        "    #pred = sess.run(prediction, feed_dict=feed_dict)\n",
        "    #for p, i in zip(pred, y_test.flatten()):\n",
        "    #    print(\"[{}] Prediction: {} True Y: {}\".format(p == int(i), p, int(i)))\n",
        "        \n",
        "    print(sess.run(\"W:0\"))\n",
        "    print(sess.run(\"b:0\"))\n",
        "    save_path = saver.save(sess, \"./weights.ckpt\")\n",
        "    print(\"model saved!\")"
      ],
      "execution_count": 9,
      "outputs": [
        {
          "output_type": "stream",
          "text": [
            "[[-0.60350156 -0.38691214  0.7561203  ... -0.35667068  0.35105112\n",
            "   0.4374432 ]\n",
            " [ 0.2529312  -1.9613959  -1.6787497  ... -0.65792894  1.7830799\n",
            "   0.899659  ]\n",
            " [ 0.32490525 -0.9021842  -0.02634702 ...  1.3722966  -0.4042658\n",
            "   0.90747213]\n",
            " ...\n",
            " [ 1.7666767  -1.2483937   0.7708734  ...  1.571852   -0.5574694\n",
            "  -0.17575318]\n",
            " [ 0.35706872  1.1787695   1.5761065  ...  1.2773248  -0.20737572\n",
            "  -1.214323  ]\n",
            " [-0.524111   -0.23854151 -0.4773052  ...  1.2770705   1.226497\n",
            "   1.0986274 ]]\n",
            "[-5.3908688e-01 -3.6625275e-01  4.7464165e-01  7.9219043e-01\n",
            "  1.9891549e+00  8.0540258e-01  6.6885650e-01 -1.4659922e-01\n",
            "  9.9400264e-01  1.1100429e+00  1.1713843e+00 -5.8140755e-01\n",
            "  5.9684652e-01  2.8604656e-01 -1.7912146e+00 -1.1308169e+00\n",
            "  6.3723546e-01  1.6111888e-01  1.9838984e-01 -5.3721786e-01\n",
            " -5.5481201e-01 -8.3530462e-01 -1.2063411e+00  6.9869339e-01\n",
            "  1.6345368e-01 -1.8750100e-01 -4.0604081e-02  1.0475937e+00\n",
            "  8.1848359e-01  5.8797896e-01  5.9991688e-01  3.8076624e-01\n",
            " -9.1578150e-01  5.5713159e-01  3.3948487e-01 -2.2270756e+00\n",
            " -3.7021452e-01 -6.4833772e-01 -4.5331356e-01  2.2790524e-01\n",
            " -7.9324949e-01 -1.2277784e+00 -8.4299129e-01  2.3275907e+00\n",
            "  1.1733323e+00 -7.6010853e-01  1.1048995e+00  7.1577036e-01\n",
            "  9.9795135e-03  1.2104325e+00  2.1294022e+00  4.4251400e-01\n",
            "  1.3154376e+00  7.3114383e-01  8.8149875e-01 -8.8478506e-01\n",
            " -4.5545539e-01 -2.6090991e-01  1.3380405e+00 -6.4752716e-01\n",
            " -7.6392370e-01 -7.0809293e-01  2.5618219e-01  7.3609608e-01\n",
            "  9.2818952e-01 -3.3666956e-01  2.1833481e-01 -1.6406544e+00\n",
            " -1.2185334e+00  1.5084203e-01  8.7779188e-01 -1.9261903e+00\n",
            "  8.7921500e-01  6.1031543e-02 -1.0645888e+00 -2.2925306e-02\n",
            "  5.1335651e-01 -3.7414122e-01  7.0931268e-01  1.1412313e-03\n",
            "  1.1161315e+00  3.1651285e-01 -5.5863082e-01  5.3995270e-01\n",
            "  1.7397590e-01 -1.6782563e+00 -1.2364862e+00 -1.7660522e+00\n",
            " -1.0197012e+00  5.9153521e-01  1.4083602e+00  1.6635414e+00\n",
            "  8.7326482e-02  6.1018229e-01  7.3067260e-01 -6.6503257e-01\n",
            " -1.6252813e+00 -3.3952597e-01  1.6062125e+00  9.3564999e-01]\n",
            "============================sess init\n",
            "Epoch 1/1000 took 0.330s\n",
            "  Train      loss : 9.089227\n",
            "  Validation loss : 8.924389\n",
            "Epoch 101/1000 took 0.838s\n",
            "  Train      loss : 2.603915\n",
            "  Validation loss : 2.577739\n",
            "Epoch 201/1000 took 1.315s\n",
            "  Train      loss : 2.032722\n",
            "  Validation loss : 2.057761\n",
            "Epoch 301/1000 took 1.821s\n",
            "  Train      loss : 1.835614\n",
            "  Validation loss : 1.814697\n",
            "Epoch 401/1000 took 2.310s\n",
            "  Train      loss : 1.706446\n",
            "  Validation loss : 1.687874\n",
            "Epoch 501/1000 took 2.788s\n",
            "  Train      loss : 1.620876\n",
            "  Validation loss : 1.607979\n",
            "Epoch 601/1000 took 3.262s\n",
            "  Train      loss : 1.552770\n",
            "  Validation loss : 1.545617\n",
            "Epoch 701/1000 took 3.759s\n",
            "  Train      loss : 1.516022\n",
            "  Validation loss : 1.513309\n",
            "Epoch 801/1000 took 4.245s\n",
            "  Train      loss : 1.485504\n",
            "  Validation loss : 1.468763\n",
            "Epoch 901/1000 took 4.723s\n",
            "  Train      loss : 1.464779\n",
            "  Validation loss : 1.464917\n",
            "It took 5.204912185668945 seconds to train for 1000 epochs.\n",
            "============================ training end\n"
          ],
          "name": "stdout"
        },
        {
          "output_type": "display_data",
          "data": {
            "image/png": "[encoded data removed]",
            "text/plain": [
              "<Figure size 1152x576 with 1 Axes>"
            ]
          },
          "metadata": {
            "tags": []
          }
        },
        {
          "output_type": "stream",
          "text": [
            "[[-0.55694216 -0.8539011  -0.15263036 ...  0.20285913  1.2785035\n",
            "   1.5274671 ]\n",
            " [-0.16684881 -2.1276472  -1.9602917  ... -0.1710222   2.575864\n",
            "   1.8616866 ]\n",
            " [ 0.6644017   0.77148116  0.77908283 ...  0.32235637 -1.3154823\n",
            "  -0.43090805]\n",
            " ...\n",
            " [ 1.6503158  -1.2329303   0.68244934 ...  1.5956483  -0.39810082\n",
            "   0.09754728]\n",
            " [ 0.9100397   1.530417    1.5967796  ...  0.6667849  -0.8971741\n",
            "  -2.2932875 ]\n",
            " [-0.6010919  -0.50284696 -0.4805464  ...  0.9211418   0.88575387\n",
            "   0.26183185]]\n",
            "[-0.06486662  0.7058265   1.3095689   1.2562718   2.4924684   1.5432986\n",
            " -0.22008184 -0.6586523   0.12197381  0.36496425  0.31730983 -1.1475421\n",
            " -0.19376592 -0.53450626 -2.8089123  -1.945932   -0.14840636 -0.8911869\n",
            " -0.6071836  -1.5767542  -1.4111243  -1.625586   -2.153288   -0.33341676\n",
            " -0.28797817 -1.1407776  -0.51988274  0.43210474 -0.28055704 -0.2944588\n",
            "  0.21215862 -0.42253315 -1.7552209  -0.2421954  -0.3518249  -2.8733912\n",
            " -1.4498942  -1.4445864  -1.2801584  -0.74811554 -1.7970157  -2.0235355\n",
            " -1.8698279   1.4596256   0.25383037 -2.0156436   0.11143056 -0.30130452\n",
            " -1.2307466   0.15270822  1.1607059   0.03396356  0.49184597  0.19093864\n",
            " -0.01678908 -1.32231    -1.2860965  -0.74427754  0.67336893 -1.9120848\n",
            " -1.3859359  -1.5303901  -0.7229751  -0.22502549  0.05876545 -1.3292719\n",
            " -0.6360708  -2.018308   -2.1041896  -0.6927134  -0.15340413 -2.5950716\n",
            " -0.18415728 -0.8546603  -1.917575   -0.85297483 -0.58260566 -1.0810394\n",
            " -0.2419005  -0.88203955  0.10661721 -0.6730843  -1.404178   -0.46570858\n",
            " -0.7735646  -2.7106822  -1.8193616  -2.939706   -1.6208078  -0.22911264\n",
            "  0.91716826  0.6285112  -0.8329983  -0.25494903  0.21146984 -1.6240618\n",
            " -2.537189   -1.2488542   0.6224664  -0.36027357]\n",
            "model saved!\n"
          ],
          "name": "stdout"
        }
      ]
    },
    {
      "cell_type": "code",
      "metadata": {
        "id": "onUc6dcuDW-N",
        "colab_type": "code",
        "colab": {}
      },
      "source": [
        "tf.reset_default_graph()\n",
        "saver = tf.train.import_meta_graph(\"./weights.ckpt.meta\")"
      ],
      "execution_count": 0,
      "outputs": []
    },
    {
      "cell_type": "code",
      "metadata": {
        "id": "W40WnyRrDWwO",
        "colab_type": "code",
        "outputId": "0acf8858-b766-4fe9-cb67-ea67d181bfe3",
        "colab": {
          "base_uri": "https://localhost:8080/",
          "height": 496
        }
      },
      "source": [
        "learning_rate = 0.001\n",
        "total_epoch = 1000\n",
        "batch_size = 64\n",
        "dropout = 0.5\n",
        "# hidden_size = 200\n",
        "index = 0\n",
        "\n",
        "n_variable = 2\n",
        "\n",
        "encoder_inputs = tf.placeholder(tf.float32, [None, n_variable], name=\"encoder_inputs\") \n",
        "decoder_inputs = tf.placeholder(tf.float32, [None, n_variable], name=\"decoder_inputs\")\n",
        "targets = tf.placeholder(tf.int64, [None], name=\"targets\")\n",
        "\n",
        "X_train, y_train, X_val, y_val, X_test, y_test = data_maker()\n",
        "\n",
        "with tf.variable_scope(\"seq2seq\"):  \n",
        "    cell = tf.contrib.rnn.GRUCell(num_units=hidden_size)\n",
        "    outputs, states = tf.contrib.legacy_seq2seq.basic_rnn_seq2seq([encoder_inputs], [decoder_inputs], cell)\n",
        "    outputs = tf.reshape(outputs, [-1, hidden_size]) #3D -> 2D\n",
        "    print(\"outputs\", outputs)  # output 모양이 항상 [? , hidden_size]으로 고정됨\n",
        "\n",
        "    W = tf.get_default_graph().get_tensor_by_name(\"W:0\")\n",
        "    b = tf.get_default_graph().get_tensor_by_name(\"b:0\")\n",
        "    print(\"W\", W)\n",
        "    print(\"b\", b)\n",
        "    logits = tf.matmul(outputs, W) + b\n",
        "\n",
        "with tf.variable_scope(\"cost_2\"):\n",
        "    cost = tf.reduce_mean(tf.nn.sparse_softmax_cross_entropy_with_logits(logits=logits, labels=targets))\n",
        "    optimizer = tf.train.AdamOptimizer(learning_rate).minimize(cost) \n",
        "\n",
        "with tf.variable_scope(\"eval_2\"):\n",
        "    prediction = tf.argmax(tf.nn.softmax(logits), 1) \n",
        "    correct_prediction = tf.equal(prediction, targets) #one-hot을 안쓰면 target에는 argmax할 필요없음\n",
        "    accuracy_op = tf.reduce_mean(tf.cast(correct_prediction, tf.float32))"
      ],
      "execution_count": 11,
      "outputs": [
        {
          "output_type": "stream",
          "text": [
            "train Counter({2.0: 1910, 4.0: 1700, 1.0: 1273, 5.0: 891, 3.0: 502, 0.0: 135})\n",
            "test Counter({2.0: 531, 4.0: 472, 1.0: 354, 5.0: 248, 3.0: 139, 0.0: 37})\n",
            "val Counter({2.0: 212, 4.0: 189, 1.0: 142, 5.0: 99, 3.0: 56, 0.0: 15})\n"
          ],
          "name": "stdout"
        },
        {
          "output_type": "display_data",
          "data": {
            "image/png": "[encoded data removed]",
            "text/plain": [
              "<Figure size 1296x432 with 3 Axes>"
            ]
          },
          "metadata": {
            "tags": []
          }
        },
        {
          "output_type": "stream",
          "text": [
            "outputs Tensor(\"seq2seq/Reshape:0\", shape=(?, 20), dtype=float32)\n",
            "W Tensor(\"W:0\", shape=(20, 100), dtype=float32_ref)\n",
            "b Tensor(\"b:0\", shape=(100,), dtype=float32_ref)\n"
          ],
          "name": "stdout"
        }
      ]
    },
    {
      "cell_type": "code",
      "metadata": {
        "id": "-MU3NiV4tOW5",
        "colab_type": "code",
        "outputId": "72884ca3-cf41-4614-831c-a51c0b93f673",
        "colab": {
          "base_uri": "https://localhost:8080/",
          "height": 1000
        }
      },
      "source": [
        "train_losses = []\n",
        "val_losses = []\n",
        "new_saver = tf.train.Saver()\n",
        "\n",
        "with tf.Session() as sess:\n",
        "    tf.global_variables_initializer().run()\n",
        "    saver.restore(sess, \"./weights.ckpt\")\n",
        "    print(\"... check point loaded\")\n",
        "    print(sess.run(\"W:0\"))\n",
        "    print(sess.run(\"b:0\"))\n",
        "    print(\"=============================== training\")\n",
        "    start_time = time.time()\n",
        "\n",
        "    for epoch in range(total_epoch):\n",
        "        batch_mask = np.random.choice(len(X_train), batch_size)\n",
        "        # print(batch_mask)\n",
        "        X_batch = X_train[batch_mask]\n",
        "        y_batch = np.array(y_train)[batch_mask]\n",
        "        y_batch = y_batch.tolist()\n",
        "        # Compute the losses\n",
        "        _, tr_loss = sess.run([optimizer, cost], feed_dict={encoder_inputs: X_batch, decoder_inputs: X_batch, targets: y_batch})\n",
        "        _, val_loss = sess.run([optimizer, cost], feed_dict={encoder_inputs: X_val, decoder_inputs: X_val, targets: y_val})\n",
        "        # Log the losses\n",
        "        train_losses += [tr_loss]\n",
        "        val_losses += [val_loss]\n",
        "  \n",
        "        if epoch % 100 == 0:  \n",
        "            print(\"Epoch {}/1000 took {:.3f}s\".format(epoch + 1, time.time() - start_time))\n",
        "            print(\"  Train loss : %.6f\"%(train_losses[epoch]))\n",
        "            print(\"  valid loss : %.6f\"%(val_losses[epoch]))\n",
        "\n",
        "    print(\"============================ training end\")\n",
        "    print('Accuracy:', sess.run(accuracy_op, feed_dict={encoder_inputs: X_test, decoder_inputs: X_test, targets: y_test}))\n",
        "    \n",
        "    plt.plot(train_losses, '-b', label='Train loss')\n",
        "    plt.plot(val_losses, '-r', label='Valid loss')\n",
        "    plt.legend(loc=0)\n",
        "    plt.title('Loss graph')\n",
        "    plt.xlabel('Epoch')\n",
        "    plt.ylabel('Loss')\n",
        "    plt.show()\n",
        "\n",
        "    pred = sess.run(prediction, feed_dict={encoder_inputs: X_test, decoder_inputs: X_test})\n",
        "    # for p, i in zip(pred, y_test):\n",
        "    #     print(\"[{}] Prediction: {} True Y: {}\".format(p == int(i), p, int(i)))\n",
        "    "
      ],
      "execution_count": 12,
      "outputs": [
        {
          "output_type": "stream",
          "text": [
            "INFO:tensorflow:Restoring parameters from ./weights.ckpt\n",
            "... check point loaded\n",
            "[[-0.55694216 -0.8539011  -0.15263036 ...  0.20285913  1.2785035\n",
            "   1.5274671 ]\n",
            " [-0.16684881 -2.1276472  -1.9602917  ... -0.1710222   2.575864\n",
            "   1.8616866 ]\n",
            " [ 0.6644017   0.77148116  0.77908283 ...  0.32235637 -1.3154823\n",
            "  -0.43090805]\n",
            " ...\n",
            " [ 1.6503158  -1.2329303   0.68244934 ...  1.5956483  -0.39810082\n",
            "   0.09754728]\n",
            " [ 0.9100397   1.530417    1.5967796  ...  0.6667849  -0.8971741\n",
            "  -2.2932875 ]\n",
            " [-0.6010919  -0.50284696 -0.4805464  ...  0.9211418   0.88575387\n",
            "   0.26183185]]\n",
            "[-0.06486662  0.7058265   1.3095689   1.2562718   2.4924684   1.5432986\n",
            " -0.22008184 -0.6586523   0.12197381  0.36496425  0.31730983 -1.1475421\n",
            " -0.19376592 -0.53450626 -2.8089123  -1.945932   -0.14840636 -0.8911869\n",
            " -0.6071836  -1.5767542  -1.4111243  -1.625586   -2.153288   -0.33341676\n",
            " -0.28797817 -1.1407776  -0.51988274  0.43210474 -0.28055704 -0.2944588\n",
            "  0.21215862 -0.42253315 -1.7552209  -0.2421954  -0.3518249  -2.8733912\n",
            " -1.4498942  -1.4445864  -1.2801584  -0.74811554 -1.7970157  -2.0235355\n",
            " -1.8698279   1.4596256   0.25383037 -2.0156436   0.11143056 -0.30130452\n",
            " -1.2307466   0.15270822  1.1607059   0.03396356  0.49184597  0.19093864\n",
            " -0.01678908 -1.32231    -1.2860965  -0.74427754  0.67336893 -1.9120848\n",
            " -1.3859359  -1.5303901  -0.7229751  -0.22502549  0.05876545 -1.3292719\n",
            " -0.6360708  -2.018308   -2.1041896  -0.6927134  -0.15340413 -2.5950716\n",
            " -0.18415728 -0.8546603  -1.917575   -0.85297483 -0.58260566 -1.0810394\n",
            " -0.2419005  -0.88203955  0.10661721 -0.6730843  -1.404178   -0.46570858\n",
            " -0.7735646  -2.7106822  -1.8193616  -2.939706   -1.6208078  -0.22911264\n",
            "  0.91716826  0.6285112  -0.8329983  -0.25494903  0.21146984 -1.6240618\n",
            " -2.537189   -1.2488542   0.6224664  -0.36027357]\n",
            "=============================== training\n",
            "Epoch 1/1000 took 0.084s\n",
            "  Train loss : 8.418591\n",
            "  valid loss : 8.769513\n",
            "Epoch 101/1000 took 0.514s\n",
            "  Train loss : 1.371871\n",
            "  valid loss : 1.411390\n",
            "Epoch 201/1000 took 0.944s\n",
            "  Train loss : 1.474054\n",
            "  valid loss : 1.371649\n",
            "Epoch 301/1000 took 1.364s\n",
            "  Train loss : 1.340344\n",
            "  valid loss : 1.366760\n",
            "Epoch 401/1000 took 1.784s\n",
            "  Train loss : 1.292714\n",
            "  valid loss : 1.357639\n",
            "Epoch 501/1000 took 2.203s\n",
            "  Train loss : 1.485722\n",
            "  valid loss : 1.355077\n",
            "Epoch 601/1000 took 2.609s\n",
            "  Train loss : 1.419861\n",
            "  valid loss : 1.347768\n",
            "Epoch 701/1000 took 3.014s\n",
            "  Train loss : 1.191392\n",
            "  valid loss : 1.344472\n",
            "Epoch 801/1000 took 3.429s\n",
            "  Train loss : 1.274601\n",
            "  valid loss : 1.346662\n",
            "Epoch 901/1000 took 3.861s\n",
            "  Train loss : 1.257023\n",
            "  valid loss : 1.344903\n",
            "============================ training end\n",
            "Accuracy: 0.4070747\n"
          ],
          "name": "stdout"
        },
        {
          "output_type": "display_data",
          "data": {
            "image/png": "[encoded data removed]",
            "text/plain": [
              "<Figure size 1152x576 with 1 Axes>"
            ]
          },
          "metadata": {
            "tags": []
          }
        }
      ]
    },
    {
      "cell_type": "code",
      "metadata": {
        "id": "iSTMtDalHJFf",
        "colab_type": "code",
        "colab": {
          "base_uri": "https://localhost:8080/",
          "height": 868
        },
        "outputId": "9c65727c-a6e2-453a-d368-f5315eb3b7f2"
      },
      "source": [
        "from sklearn.metrics import confusion_matrix, classification_report\n",
        "import pandas as pd\n",
        "# pred = sess.run(prediction, feed_dict={encoder_inputs: X_test, decoder_inputs: X_test})\n",
        "target_names = ['bareland', 'crop', 'forest', 'grass', 'rice', 'water']\n",
        "matrix = confusion_matrix(np.array(y_test), np.array(pred))\n",
        "df = pd.DataFrame(matrix, index = [i for i in target_names], columns = [i for i in target_names])\n",
        "fig = plt.figure(figsize = (16,8))\n",
        "sns.heatmap(df, annot=True, cbar=False, cmap=\"YlGnBu\", fmt='d')\n",
        "plt.savefig('matrix')\n",
        "report = classification_report(y_test, pred, target_names=target_names)\n",
        "print(report)\n",
        "print(matrix)"
      ],
      "execution_count": 13,
      "outputs": [
        {
          "output_type": "stream",
          "text": [
            "              precision    recall  f1-score   support\n",
            "\n",
            "    bareland       0.00      0.00      0.00        37\n",
            "        crop       1.00      0.00      0.01       354\n",
            "      forest       0.37      0.62      0.47       531\n",
            "       grass       0.00      0.00      0.00       139\n",
            "        rice       0.33      0.41      0.37       472\n",
            "       water       0.64      0.81      0.72       248\n",
            "\n",
            "    accuracy                           0.41      1781\n",
            "   macro avg       0.39      0.31      0.26      1781\n",
            "weighted avg       0.49      0.41      0.34      1781\n",
            "\n",
            "[[  0   0  18   0  16   3]\n",
            " [  0   1 198   0 146   9]\n",
            " [  0   0 328   0 169  34]\n",
            " [  0   0  79   0  40  20]\n",
            " [  0   0 231   0 194  47]\n",
            " [  0   0  24   0  22 202]]\n"
          ],
          "name": "stdout"
        },
        {
          "output_type": "stream",
          "text": [
            "/usr/local/lib/python3.6/dist-packages/sklearn/metrics/classification.py:1437: UndefinedMetricWarning: Precision and F-score are ill-defined and being set to 0.0 in labels with no predicted samples.\n",
            "  'precision', 'predicted', average, warn_for)\n"
          ],
          "name": "stderr"
        },
        {
          "output_type": "display_data",
          "data": {
            "image/png": "[encoded data removed]",
            "text/plain": [
              "<Figure size 1152x576 with 1 Axes>"
            ]
          },
          "metadata": {
            "tags": []
          }
        }
      ]
    },
    {
      "cell_type": "code",
      "metadata": {
        "id": "DH_68NdCQEOM",
        "colab_type": "code",
        "colab": {}
      },
      "source": [
        ""
      ],
      "execution_count": 0,
      "outputs": []
    }
  ]
}